{
 "cells": [
  {
   "cell_type": "code",
   "execution_count": 18,
   "metadata": {},
   "outputs": [
    {
     "name": "stdout",
     "output_type": "stream",
     "text": [
      "   index  rate  cost\n",
      "0      1     2   100\n",
      "1      2     1   200\n",
      "2      3     2   300\n",
      "   index  rate  cost\n",
      "0      1     2   100\n",
      "1      2     1   200\n",
      "   index  rate  cost\n",
      "1      2     1   200\n",
      "2      3     2   300\n",
      "   index  rate  cost\n",
      "0      1     2   100\n",
      "1      2     1   200\n",
      "2      3     2   300\n",
      "   index  rate  cost_x  cost_y\n",
      "0      1     2     100     100\n",
      "1      1     2     100     300\n",
      "2      3     2     300     100\n",
      "3      3     2     300     300\n",
      "4      2     1     200     200\n",
      "   index  rate  cost\n",
      "0      1     2   100\n",
      "1      2     1   200\n",
      "2      3     2   300\n"
     ]
    }
   ],
   "source": [
    "\"\"\"\n",
    "Created on Fri May  2 09:50:19 2020\n",
    "\n",
    "@author: Shivanshu Agnihotri\n",
    "\n",
    "Use Jupyter Notebook for .ipynb files\n",
    "\"\"\"\n",
    "\n",
    "import pandas as pd \n",
    "\n",
    "df=pd.DataFrame({'index':[1,2,3],'rate':[2,1,2],'cost':[100,200,300]})\n",
    "\n",
    "\n",
    "print(df)\n",
    "\n",
    "print(df.head(2))  #slicing first two rows \n",
    "print(df.tail(2))  #slicing last two rows\n",
    "\n",
    "\n",
    "df1=pd.DataFrame({'rate':[2,1,2],'cost':[100,200,300]},index=[1,2,3])\n",
    "\n",
    "df2=pd.DataFrame({'rate':[2,1,2],'cost':[100,200,300]},index=[4,5,6])\n",
    "\n",
    "merge=pd.merge(df,df2)\n",
    "\n",
    "print(merge) #merging\n",
    "\n",
    "merge=pd.merge(df,df2,on='rate')\n",
    "\n",
    "print(merge) #merging by taking one common column only \n",
    "\n",
    "df.set_index(\"rate\",inplace=True) #changing index\n",
    "\n",
    "print(df)\n",
    "\n"
   ]
  },
  {
   "cell_type": "code",
   "execution_count": null,
   "metadata": {},
   "outputs": [],
   "source": []
  }
 ],
 "metadata": {
  "kernelspec": {
   "display_name": "Python 3",
   "language": "python",
   "name": "python3"
  },
  "language_info": {
   "codemirror_mode": {
    "name": "ipython",
    "version": 3
   },
   "file_extension": ".py",
   "mimetype": "text/x-python",
   "name": "python",
   "nbconvert_exporter": "python",
   "pygments_lexer": "ipython3",
   "version": "3.7.6"
  }
 },
 "nbformat": 4,
 "nbformat_minor": 4
}
