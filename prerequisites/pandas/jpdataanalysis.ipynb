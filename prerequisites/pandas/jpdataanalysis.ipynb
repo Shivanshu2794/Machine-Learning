{
 "cells": [
  {
   "cell_type": "code",
   "execution_count": 9,
   "metadata": {},
   "outputs": [
    {
     "name": "stdout",
     "output_type": "stream",
     "text": [
      "                      Country Name       2010       2011       2012  \\\n",
      "Country Code                                                          \n",
      "AFG                    Afghanistan  20.600000  20.900000  19.700001   \n",
      "AGO                         Angola  10.800000  10.700000  10.700000   \n",
      "ALB                        Albania  25.799999  27.000000  28.299999   \n",
      "ARB                     Arab World  25.022214  28.117516  29.113212   \n",
      "ARE           United Arab Emirates   9.800000   9.800000   9.800000   \n",
      "\n",
      "                   2013       2014  \n",
      "Country Code                        \n",
      "AFG           21.100000  20.799999  \n",
      "AGO           10.600000  10.500000  \n",
      "ALB           28.700001  29.200001  \n",
      "ARB           29.335306  29.704569  \n",
      "ARE            9.900000  10.000000  \n",
      "                   2010       2011\n",
      "Country Code                      \n",
      "AFG           20.600000  20.900000\n",
      "AGO           10.800000  10.700000\n",
      "ALB           25.799999  27.000000\n",
      "ARB           25.022214  28.117516\n",
      "ARE            9.800000   9.800000\n"
     ]
    },
    {
     "data": {
      "image/png": "[encoded data removed]",
      "text/plain": [
       "<Figure size 432x288 with 1 Axes>"
      ]
     },
     "metadata": {
      "needs_background": "light"
     },
     "output_type": "display_data"
    }
   ],
   "source": [
    "\"\"\"\n",
    "Created on Fri May  2 10:48:53 2020\n",
    "\n",
    "@author: Shivanshu Agnihotri\n",
    "\n",
    "Use Jupyter Notebook for .ipynb files\n",
    "\"\"\"\n",
    "\n",
    "#find out the change in percenatge of unemployed youth for every country from 2010-011\n",
    "\n",
    "import pandas as pd\n",
    "import matplotlib.pyplot as plt\n",
    "\n",
    "country=pd.read_csv(r\"C:\\Users\\Shivanshu\\Desktop\\youthdata.csv\")\n",
    "\n",
    "df=country.head(5) #selecting 5 rows\n",
    "\n",
    "df.set_index('Country Code',inplace=True) #making country code as an index\n",
    "\n",
    "print(df)\n",
    "\n",
    "r=df.reindex(columns=['2010','2011']) #selecting required colums (2010 and 2011)\n",
    "\n",
    "print(r)\n",
    "\n",
    "pc=r.diff(axis=1) #change in percentage (subtracting columns)\n",
    "\n",
    "pc.plot(kind=\"bar\")\n",
    "\n",
    "plt.show()\n",
    "\n"
   ]
  },
  {
   "cell_type": "code",
   "execution_count": null,
   "metadata": {},
   "outputs": [],
   "source": []
  }
 ],
 "metadata": {
  "kernelspec": {
   "display_name": "Python 3",
   "language": "python",
   "name": "python3"
  },
  "language_info": {
   "codemirror_mode": {
    "name": "ipython",
    "version": 3
   },
   "file_extension": ".py",
   "mimetype": "text/x-python",
   "name": "python",
   "nbconvert_exporter": "python",
   "pygments_lexer": "ipython3",
   "version": "3.7.6"
  }
 },
 "nbformat": 4,
 "nbformat_minor": 4
}
